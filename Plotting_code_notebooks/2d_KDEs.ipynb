{
 "metadata": {
  "name": "",
  "signature": "sha256:b7b0d899304f61224e7ce0c9b4ba4fe8a13a0730285b18f9ebb112ce84f78003"
 },
 "nbformat": 3,
 "nbformat_minor": 0,
 "worksheets": [
  {
   "cells": [
    {
     "cell_type": "code",
     "collapsed": false,
     "input": [
      "# A code for finding a reasonable value for the width of a gaussian using cross-validation.\n",
      "\n",
      "from sklearn.cross_validation import KFold\n",
      "from sklearn.neighbors.kde import KernelDensity\n",
      "\n",
      "% matplotlib inline\n",
      "\n",
      "def get_bins(x_range,y_range,N):\n",
      "\n",
      "    bins_x = np.linspace(x_range[0],x_range[1],N+1)\n",
      "    bins_y = np.linspace(y_range[0],y_range[1],N+1)\n",
      "    \n",
      "    bin_centres_x = np.array([bins_x[B] + (bins_x[B+1]-bins_x[B])/2 for B in range(N)])\n",
      "    bin_centres_y = np.array([bins_y[B] + (bins_y[B+1]-bins_y[B])/2 for B in range(N)])\n",
      "    \n",
      "    xx,yy =  np.meshgrid(bins_x,bins_y)\n",
      "    #xy = np.array([np.ravel(xx),np.ravel(yy)]).T \n",
      "    \n",
      "    xx_centres,yy_centres =  np.meshgrid(bin_centres_x,bin_centres_y)\n",
      "    xy = np.array([np.ravel(xx_centres),np.ravel(yy_centres)]).T # Used to 'score' the samples.\n",
      "    \n",
      "    return xx,yy,xx_centres,yy_centres,xy\n",
      "\n",
      "def f(x,y):\n",
      "    return (1/math.sqrt(2*math.pi))*np.exp(-(np.sqrt(x**2+y**2))/2)"
     ],
     "language": "python",
     "metadata": {},
     "outputs": [],
     "prompt_number": 200
    },
    {
     "cell_type": "code",
     "collapsed": false,
     "input": [
      "def get_kde_bandwidth(values,x_range=None,y_range=None,N=10,n_folds=5,num_sigmas=20,plot_values=False):\n",
      "    \n",
      "    if x_range == None:\n",
      "        x_range = [np.min(values[:,0]),np.max(values[:,0])]\n",
      "    if y_range == None:\n",
      "        y_range = [np.min(values[:,1]),np.max(values[:,1])]\n",
      "                   \n",
      "    xx,yy,xxc,yyc,xy = get_bins(x_range=[-3,3],y_range=[-3,3],N=N)\n",
      "                   \n",
      "    kf = KFold(n=len(values),n_folds=n_folds,shuffle=True)\n",
      "    \n",
      "    output_table = np.zeros((num_sigmas,2))\n",
      "    output_table[:,0] = np.linspace(0.01,2,num_sigmas)\n",
      "    \n",
      "    for train,test in kf:\n",
      "    \n",
      "        r = 0\n",
      "    \n",
      "        v_train,v_test = values[train],values[test]\n",
      "\n",
      "        for sigma in np.linspace(0.01,2,num_sigmas):\n",
      "    \n",
      "            kde = KernelDensity(kernel='gaussian', bandwidth=sigma).fit(v_train)\n",
      "        \n",
      "            dens = np.exp(kde.score_samples(xy).reshape(N,N))\n",
      "            train_dens = np.histogram2d(v_test[:,0],v_test[:,1],bins=N,\n",
      "                range=[x_range,y_range],normed=True)[0]\n",
      "            diff = np.sum((train_dens-dens)**2)\n",
      "        \n",
      "            output_table[r,1] = full_save_table[r,1] + [diff]\n",
      "            r = r+1\n",
      "    \n",
      "    optimal_sigma = output_table[np.argmin(output_table[:,1]),0]\n",
      "    \n",
      "    if plot_values:\n",
      "    \n",
      "        plt.plot(output_table[:,0],output_table[:,1],'k--')\n",
      "        plt.plot(output_table[np.argmin(output_table[:,1]),0],\n",
      "            full_save_table[np.argmin(output_table[:,1]),1],'ro')\n",
      "        plt.xlabel('gaussian bandwidth')\n",
      "        plt.ylabel('Total residual')\n",
      "        \n",
      "    return optimal_sigma    "
     ],
     "language": "python",
     "metadata": {},
     "outputs": [],
     "prompt_number": 201
    },
    {
     "cell_type": "code",
     "collapsed": false,
     "input": [
      "def get_kde(values,bandwidth='optimal',x_range=None,y_range=None,N_optimise=10,N_out=100):\n",
      "    \n",
      "    if bandwidth == 'optimal':\n",
      "        u = get_kde_bandwidth(values=values,x_range=x_range,y_range=y_range,N=N_optimise)\n",
      "    \n",
      "    else:\n",
      "        u = bandwidth\n",
      "        \n",
      "    xx,yy,xxc,yyc,xy = get_bins(x_range=[-3,3],y_range=[-3,3],N=N_out)\n",
      "        \n",
      "    kde = KernelDensity(kernel='gaussian', bandwidth=u).fit(values)\n",
      "    dens = np.exp(kde.score_samples(xy).reshape(N_out,N_out))\n",
      "    \n",
      "    if x_range == None:\n",
      "        X = np.linspace(np.min(values[:,0]),np.max(values[:,0]),N_out+1)\n",
      "    else:\n",
      "        X = np.linspace(x_range[0],x_range[1],N_out+1)\n",
      "    if y_range == None:\n",
      "        Y = np.linspace(np.min(values[:,1]),np.max(values[:,1]),N_out+1)\n",
      "    else:\n",
      "        Y = np.linspace(y_range[0],y_range[1],N_out+1)\n",
      "    \n",
      "    #return xxc,yyc,dens\n",
      "    return X,Y,dens"
     ],
     "language": "python",
     "metadata": {},
     "outputs": [],
     "prompt_number": 230
    },
    {
     "cell_type": "code",
     "collapsed": false,
     "input": [
      "plt.subplot(111,aspect='equal')\n",
      "\n",
      "V = np.random.randn(10**4,2)\n",
      "\n",
      "H,xe,ye = np.histogram2d(V[:,0],V[:,1],range=[x_range,y_range],bins=20,normed=True)\n",
      "xg,yg = np.meshgrid(xe,ye)\n",
      "plt.contour(H,extent=(xe[0],xe[-1],ye[0],ye[-1]),\n",
      "            levels=(0.03,0.06,0.12),colors='k',linewidths=2)\n",
      "\n",
      "X,Y,Z = get_kde(values=V,bandwidth=0.2)\n",
      "\n",
      "X = np.linspace(-3,3,100)\n",
      "Y = np.linspace(-3,3,100)\n",
      "\n",
      "plt.contour(X,Y,Z,colors='r',linewidths=2,linestyles='dashed',\n",
      "            levels=(0.03,0.06,0.12))\n",
      "\n",
      "print(X.shape,Y.shape,Z.shape)\n",
      "\n",
      "plt.legend()"
     ],
     "language": "python",
     "metadata": {},
     "outputs": [
      {
       "output_type": "stream",
       "stream": "stdout",
       "text": [
        "(100,) (100,) (100, 100)\n"
       ]
      },
      {
       "metadata": {},
       "output_type": "display_data",
       "png": "[encoded data removed]",
       "text": [
        "<matplotlib.figure.Figure at 0x2adc04559940>"
       ]
      }
     ],
     "prompt_number": 228
    },
    {
     "cell_type": "code",
     "collapsed": false,
     "input": [
      "def sigma_hist(x,y,bins,levels,range):\n",
      "  \n",
      "    if range == None:\n",
      "        range = [[x.min(), x.max()], [y.min(), y.max()]]\n",
      "  \n",
      "    #H, X, Y = np.histogram2d(x.flatten(), y.flatten(), bins=bins,\n",
      "                                 #range=range)\n",
      "        \n",
      "    X,Y,H = get_kde(values=np.array([x,y]).T,x_range=[-3,3],y_range=[-3,3])\n",
      "    \n",
      "    Hflat = H.flatten()\n",
      "    inds = np.argsort(Hflat)[::-1]\n",
      "    Hflat = Hflat[inds]\n",
      "    sm = np.cumsum(Hflat)\n",
      "    sm /= sm[-1]\n",
      "    V = np.empty(len(levels))\n",
      "    for i, v0 in enumerate(levels):\n",
      "        try:\n",
      "            V[i] = Hflat[sm <= v0][-1]\n",
      "        except:\n",
      "            V[i] = Hflat[0]\n",
      "\n",
      "    # Compute the bin centers.\n",
      "    X1, Y1 = 0.5 * (X[1:] + X[:-1]), 0.5 * (Y[1:] + Y[:-1])\n",
      "\n",
      "    # Extend the array for the sake of the contours at the plot edges.\n",
      "    H2 = H.min() + np.zeros((H.shape[0] + 4, H.shape[1] + 4))\n",
      "    H2[2:-2, 2:-2] = H\n",
      "    H2[2:-2, 1] = H[:, 0]\n",
      "    H2[2:-2, -2] = H[:, -1]\n",
      "    H2[1, 2:-2] = H[0]\n",
      "    H2[-2, 2:-2] = H[-1]\n",
      "    H2[1, 1] = H[0, 0]\n",
      "    H2[1, -2] = H[0, -1]\n",
      "    H2[-2, 1] = H[-1, 0]\n",
      "    H2[-2, -2] = H[-1, -1]\n",
      "    X2 = np.concatenate([\n",
      "        X1[0] + np.array([-2, -1]) * np.diff(X1[:2]),\n",
      "        X1,\n",
      "        X1[-1] + np.array([1, 2]) * np.diff(X1[-2:]),\n",
      "    ])\n",
      "    Y2 = np.concatenate([\n",
      "        Y1[0] + np.array([-2, -1]) * np.diff(Y1[:2]),\n",
      "        Y1,\n",
      "        Y1[-1] + np.array([1, 2]) * np.diff(Y1[-2:]),\n",
      "    ])\n",
      "    \n",
      "    H2 = H2.T\n",
      "    \n",
      "    return X2,Y2,H2,V"
     ],
     "language": "python",
     "metadata": {},
     "outputs": [],
     "prompt_number": 233
    },
    {
     "cell_type": "code",
     "collapsed": false,
     "input": [
      "x2,y2,h2,v2 = sigma_hist(x=V[:,0],y=V[:,1],bins=20,levels=[0.2,0.4,0.6,0.8],range=None)"
     ],
     "language": "python",
     "metadata": {},
     "outputs": [
      {
       "output_type": "stream",
       "stream": "stdout",
       "text": [
        "(100, 100) (101,) (101,)\n"
       ]
      }
     ],
     "prompt_number": 234
    },
    {
     "cell_type": "code",
     "collapsed": false,
     "input": [
      "plt.subplot(111,aspect='equal')\n",
      "\n",
      "plt.contour(x2,y2,h2,v2,colors='r',levels=v2)"
     ],
     "language": "python",
     "metadata": {},
     "outputs": [
      {
       "metadata": {},
       "output_type": "pyout",
       "prompt_number": 239,
       "text": [
        "<matplotlib.contour.QuadContourSet at 0x2adc04624eb8>"
       ]
      },
      {
       "metadata": {},
       "output_type": "display_data",
       "png": "[encoded data removed]",
       "text": [
        "<matplotlib.figure.Figure at 0x2adc04624e80>"
       ]
      }
     ],
     "prompt_number": 239
    },
    {
     "cell_type": "code",
     "collapsed": false,
     "input": [],
     "language": "python",
     "metadata": {},
     "outputs": []
    }
   ],
   "metadata": {}
  }
 ]
}