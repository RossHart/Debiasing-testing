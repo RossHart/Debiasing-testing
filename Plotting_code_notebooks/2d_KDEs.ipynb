{
 "metadata": {
  "name": "",
  "signature": "sha256:0f6d695262cad8e969288e1b9811ce2591316c2089180adecdf0e14a09f01592"
 },
 "nbformat": 3,
 "nbformat_minor": 0,
 "worksheets": [
  {
   "cells": [
    {
     "cell_type": "code",
     "collapsed": false,
     "input": [
      "# A code for finding a reasonable value for the width of a gaussian using cross-validation.\n",
      "\n",
      "from sklearn.cross_validation import KFold\n",
      "from sklearn.neighbors.kde import KernelDensity\n",
      "\n",
      "% matplotlib inline\n",
      "\n",
      "def get_bins(x_range,y_range,N):\n",
      "\n",
      "    bins_x = np.linspace(x_range[0],x_range[1],N+1)\n",
      "    bins_y = np.linspace(y_range[0],y_range[1],N+1)\n",
      "    \n",
      "    bin_centres_x = np.array([bins_x[B] + (bins_x[B+1]-bins_x[B])/2 for B in range(N)])\n",
      "    bin_centres_y = np.array([bins_y[B] + (bins_y[B+1]-bins_y[B])/2 for B in range(N)])\n",
      "    \n",
      "    xx,yy =  np.meshgrid(bins_x,bins_y)\n",
      "    #xy = np.array([np.ravel(xx),np.ravel(yy)]).T \n",
      "    \n",
      "    xx_centres,yy_centres =  np.meshgrid(bin_centres_x,bin_centres_y)\n",
      "    xy = np.array([np.ravel(xx_centres),np.ravel(yy_centres)]).T # Used to 'score' the samples.\n",
      "    \n",
      "    return xx,yy,xx_centres,yy_centres,xy\n",
      "\n",
      "def f(x,y):\n",
      "    return (1/math.sqrt(2*math.pi))*np.exp(-(np.sqrt(x**2+y**2))/2)"
     ],
     "language": "python",
     "metadata": {},
     "outputs": [],
     "prompt_number": 200
    },
    {
     "cell_type": "code",
     "collapsed": false,
     "input": [
      "def get_kde_bandwidth(values,x_range=None,y_range=None,N=10,n_folds=5,num_sigmas=20,plot_values=False):\n",
      "    \n",
      "    if x_range == None:\n",
      "        x_range = [np.min(values[:,0]),np.max(values[:,0])]\n",
      "    if y_range == None:\n",
      "        y_range = [np.min(values[:,1]),np.max(values[:,1])]\n",
      "                   \n",
      "    xx,yy,xxc,yyc,xy = get_bins(x_range=[-3,3],y_range=[-3,3],N=N)\n",
      "                   \n",
      "    kf = KFold(n=len(values),n_folds=n_folds,shuffle=True)\n",
      "    \n",
      "    output_table = np.zeros((num_sigmas,2))\n",
      "    output_table[:,0] = np.linspace(0.01,2,num_sigmas)\n",
      "    \n",
      "    for train,test in kf:\n",
      "    \n",
      "        r = 0\n",
      "    \n",
      "        v_train,v_test = values[train],values[test]\n",
      "\n",
      "        for sigma in np.linspace(0.01,2,num_sigmas):\n",
      "    \n",
      "            kde = KernelDensity(kernel='gaussian', bandwidth=sigma).fit(v_train)\n",
      "        \n",
      "            dens = np.exp(kde.score_samples(xy).reshape(N,N))\n",
      "            train_dens = np.histogram2d(v_test[:,0],v_test[:,1],bins=N,\n",
      "                range=[x_range,y_range],normed=True)[0]\n",
      "            diff = np.sum((train_dens-dens)**2)\n",
      "        \n",
      "            output_table[r,1] = full_save_table[r,1] + [diff]\n",
      "            r = r+1\n",
      "    \n",
      "    optimal_sigma = output_table[np.argmin(output_table[:,1]),0]\n",
      "    \n",
      "    if plot_values:\n",
      "    \n",
      "        plt.plot(output_table[:,0],output_table[:,1],'k--')\n",
      "        plt.plot(output_table[np.argmin(output_table[:,1]),0],\n",
      "            full_save_table[np.argmin(output_table[:,1]),1],'ro')\n",
      "        plt.xlabel('gaussian bandwidth')\n",
      "        plt.ylabel('Total residual')\n",
      "        \n",
      "    return optimal_sigma    "
     ],
     "language": "python",
     "metadata": {},
     "outputs": [],
     "prompt_number": 201
    },
    {
     "cell_type": "code",
     "collapsed": false,
     "input": [
      "def get_kde(values,bandwidth='optimal',x_range=None,y_range=None,N_optimise=10,N_out=100):\n",
      "    \n",
      "    if bandwidth == 'optimal':\n",
      "        u = get_kde_bandwidth(values=values,x_range=x_range,y_range=y_range,N=N_optimise)\n",
      "    \n",
      "    else:\n",
      "        u = bandwidth\n",
      "        \n",
      "    xx,yy,xxc,yyc,xy = get_bins(x_range=[-3,3],y_range=[-3,3],N=N_out)\n",
      "        \n",
      "    kde = KernelDensity(kernel='gaussian', bandwidth=u).fit(values)\n",
      "    dens = np.exp(kde.score_samples(xy).reshape(N_out,N_out))\n",
      "    \n",
      "    return xxc,yyc,dens"
     ],
     "language": "python",
     "metadata": {},
     "outputs": [],
     "prompt_number": 212
    },
    {
     "cell_type": "code",
     "collapsed": false,
     "input": [
      "plt.subplot(111,aspect='equal')\n",
      "\n",
      "V = np.random.randn(10**4,2)\n",
      "\n",
      "H,xe,ye = np.histogram2d(V[:,0],V[:,1],range=[x_range,y_range],bins=20,normed=True)\n",
      "xg,yg = np.meshgrid(xe,ye)\n",
      "plt.contour(H,extent=(xe[0],xe[-1],ye[0],ye[-1]),\n",
      "            levels=(0.03,0.06,0.12),colors='k',linewidths=2)\n",
      "\n",
      "X,Y,Z = get_kde(values=V)\n",
      "\n",
      "plt.contour(X,Y,Z,colors='r',linewidths=2,linestyles='dashed',\n",
      "            levels=(0.03,0.06,0.12))\n",
      "\n",
      "plt.legend()"
     ],
     "language": "python",
     "metadata": {},
     "outputs": [
      {
       "metadata": {},
       "output_type": "display_data",
       "png": "[encoded data removed]",
       "text": [
        "<matplotlib.figure.Figure at 0x2adc041360f0>"
       ]
      }
     ],
     "prompt_number": 213
    },
    {
     "cell_type": "code",
     "collapsed": false,
     "input": [],
     "language": "python",
     "metadata": {},
     "outputs": []
    }
   ],
   "metadata": {}
  }
 ]
}