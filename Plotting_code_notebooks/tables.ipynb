{
 "cells": [
  {
   "cell_type": "code",
   "execution_count": 1,
   "metadata": {
    "collapsed": true
   },
   "outputs": [],
   "source": [
    "# A horribly convoluted code for creating the LaTex tables. If you are any good at \n",
    "# coding (Steven), I know it could have been done a lot better... but it works (I think).\n",
    "\n",
    "from astropy.table import Table\n",
    "from tabulate import tabulate\n",
    "\n",
    "source_dir = '../../fits/'\n",
    "data_file = 'volume_limited_sample.fits'\n",
    "debiased_file = 'debiased_volume_limited_sample.fits'"
   ]
  },
  {
   "cell_type": "code",
   "execution_count": 2,
   "metadata": {
    "collapsed": false
   },
   "outputs": [],
   "source": [
    "def get_column(c,data,col_name):\n",
    "  \n",
    "    if len(c) == 2:\n",
    "        column = data.field(c[0]) - data.field(c[1])\n",
    "    else:\n",
    "        column = data.field(c[0])\n",
    "        if len(c) > 2:\n",
    "            print(col_name + \"has >2 fields. Only the first field was used.\")\n",
    "  \n",
    "    return column\n",
    "\n",
    "def load(cx,p_th=0.5,N_th=5,mass_lim=False):\n",
    "    \n",
    "    raw_names = ['a31_1','a32_2','a33_3','a34_4','a36_more_than_4','a37_cant_tell']\n",
    "    raw_cols = ['t11_arms_number_' + name + '_weighted_fraction' for name in raw_names]\n",
    "\n",
    "    gal_data = fits.getdata(source_dir + data_file,1) \n",
    "    debiased_values = fits.getdata(source_dir + debiased_file,1)\n",
    "            \n",
    "    x_column = get_column(c=cx,data=gal_data,col_name=\"x\") \n",
    "    \n",
    "    f_v = np.array([debiased_values.field(c) \n",
    "                    for c in debiased_values.columns.names]).T\n",
    "    f_raw = np.array([gal_data.field(c) for c in raw_cols]).T\n",
    "    table = np.concatenate([f_v,f_raw,np.array([x_column]).T],axis=1)\n",
    "    table = Table(table,names=('p_1','p_2','p_3','p_4','p_5','p_ct'\n",
    "                               ,'p_1r','p_2r','p_3r','p_4r','p_5r','p_ctr'\n",
    "                               ,'x'))\n",
    "        \n",
    "    p_spiral = (\n",
    "        gal_data.field(\"t01_smooth_or_features_a02_features_or_disk_debiased\")\n",
    "        *gal_data.field(\"t02_edgeon_a05_no_debiased\")\n",
    "        *gal_data.field(\"t04_spiral_a08_spiral_debiased\"))\n",
    "    N_spiral = (gal_data.field(\"t04_spiral_a08_spiral_count\")) # Load values to\n",
    "    # allow data cuts to be made.\n",
    "    \n",
    "    spiral_select = (p_spiral > p_th) & (N_spiral >= N_th)\n",
    "    finite_select = (np.isfinite(table['x']))\n",
    "    \n",
    "    if mass_lim == True:\n",
    "        mass_cut = gal_data.field('LOGMSTAR_BALDRY06') > 10.6\n",
    "        full_table = table[finite_select & mass_cut]\n",
    "        spiral_table = table[finite_select & spiral_select & mass_cut]\n",
    "        \n",
    "    else:\n",
    "        full_table = table[finite_select]\n",
    "        spiral_table = table[finite_select & spiral_select]\n",
    "        \n",
    "    return full_table,spiral_table"
   ]
  },
  {
   "cell_type": "code",
   "execution_count": 3,
   "metadata": {
    "collapsed": true
   },
   "outputs": [],
   "source": [
    "def assign(table,debiased_table,th=0,redistribute=False,rd_th=0,ct_th=0,print_sizes=False,raw=False):\n",
    "    \n",
    "    m_columns = debiased_table.colnames\n",
    "    \n",
    "    if raw == True:\n",
    "        m_array = np.array([table[column] for column in m_columns]).T\n",
    "    else:\n",
    "        m_array = np.array([debiased_table[column] for column in m_columns]).T\n",
    "    \n",
    "    arm_assignments = np.ones(len(table))*(-999) # Assigned arm numbers \n",
    "    # initially is an array of -999s. -999 means 'no assignment'.\n",
    "    for m in range(6):\n",
    "        a = (np.argmax(m_array,axis=1) == m) & (m_array[:,m] >= th)\n",
    "        arm_assignments[a] = m\n",
    "        \n",
    "    if redistribute is True: # Redistribute according to thresholds.\n",
    "        for m in range(5):\n",
    "            arm_assignments[(np.argmax(m_array[:,:5],axis=1) == m) \n",
    "                & (arm_assignments == 5) & (table[:,m]/table[:,5] > rd_th) \n",
    "                & (table[:,5] <= ct_th)] = m\n",
    "\n",
    "    if print_sizes is True:\n",
    "        print(\"total sample: \" + str(len(arm_assignments)))\n",
    "        print(\"total 'assigned' sample: \" \n",
    "              + str(np.sum(arm_assignments != -999)))\n",
    "        for m in range(6):\n",
    "            print(\"m = \" + str(m+1) + \": \" \n",
    "                  + str(np.sum(arm_assignments == m)))\n",
    "      \n",
    "    return arm_assignments"
   ]
  },
  {
   "cell_type": "code",
   "execution_count": 4,
   "metadata": {
    "collapsed": false
   },
   "outputs": [],
   "source": [
    "# Load the tables\n",
    "\n",
    "data = fits.getdata(source_dir + data_file,1)\n",
    "data_table = Table(data)\n",
    "debiased = fits.getdata(source_dir + debiased_file,1)\n",
    "debiased_table = Table(debiased)"
   ]
  },
  {
   "cell_type": "code",
   "execution_count": 5,
   "metadata": {
    "collapsed": false
   },
   "outputs": [],
   "source": [
    "p_th = 0.5\n",
    "N_th = 5\n",
    "\n",
    "p_spiral = (data.field(\"t01_smooth_or_features_a02_features_or_disk_debiased\")\n",
    "            *data.field(\"t02_edgeon_a05_no_debiased\")\n",
    "            *data.field(\"t04_spiral_a08_spiral_debiased\"))\n",
    "N_spiral = (data.field(\"t04_spiral_a08_spiral_count\")) # Load values to\n",
    "# allow data cuts to be made.\n",
    "    \n",
    "select_spiral = (p_spiral > p_th) & (N_spiral >= N_th)\n",
    "spirals = data_table[select_spiral]\n",
    "deb_spirals = debiased_table[select_spiral]"
   ]
  },
  {
   "cell_type": "code",
   "execution_count": 13,
   "metadata": {
    "collapsed": false
   },
   "outputs": [],
   "source": [
    "# Debiased vs raw comparison table?\n",
    "\n",
    "def get_debiasing_table(table,deb):\n",
    "    \n",
    "    values = np.zeros((12,4))\n",
    "\n",
    "    for mass_lim in [False,True]:\n",
    "        \n",
    "        for raw in [True,False]:\n",
    "        \n",
    "            if mass_lim == True:\n",
    "                mass_select = table['LOGMSTAR_BALDRY06'] >= 10.6\n",
    "                t = table[mass_select]\n",
    "                d = deb[mass_select]\n",
    "                r = 6\n",
    "            else:\n",
    "                t = table\n",
    "                d = deb\n",
    "                r = 0\n",
    "                \n",
    "            if raw is True:\n",
    "                c = 0\n",
    "            else:\n",
    "                c = 2\n",
    "                \n",
    "            m_vals = assign(t,d,raw=raw)\n",
    "            \n",
    "            N = len(t)\n",
    "            f = 1.00\n",
    "            \n",
    "            values[r,c:c+2] = np.array([N,f])\n",
    "            r = r + 1\n",
    "            \n",
    "            for m in range(5):\n",
    "                \n",
    "                N_m = np.sum(m_vals == m)\n",
    "                f = N_m/N\n",
    "                \n",
    "                values[r,c:c+2] = np.array([N_m,f])\n",
    "                r = r + 1\n",
    "\n",
    "    col1 = ['Volume-limited','$m=1$','$m=2$','$m=3$','$m=4$','$m=5+$',\n",
    "            'Stellar mass-limited','$m=1$','$m=2$','$m=3$','$m=4$','$m=5+$']\n",
    "\n",
    "    values[:,1] = np.round(values[:,1],decimals=2)\n",
    "    values[:,3] = np.round(values[:,3],decimals=2)\n",
    "\n",
    "    table_out = np.concatenate([np.array([col1]).T,values],axis=1)\n",
    "    table_out = tabulate(table_out,headers = [r'Sample',r'$N_{raw}$',r'$f_{raw}$',r'$N_{debiased}$',r'$f_{debiased}$'],\n",
    "                     tablefmt='latex')\n",
    "    \n",
    "    print(table_out)\n",
    "    \n",
    "    return None"
   ]
  },
  {
   "cell_type": "code",
   "execution_count": 89,
   "metadata": {
    "collapsed": false
   },
   "outputs": [],
   "source": [
    "def get_main_table(spirals,deb,mass_lim=True,\n",
    "                   fields=[['LOGMSTAR_BALDRY06'],['PETROMAG_MG','PETROMAG_MR'],['ssfr_total_avg']]):\n",
    "    \n",
    "    row = 0\n",
    "    \n",
    "    if mass_lim is True:\n",
    "        select_mass = spirals['LOGMSTAR_BALDRY06'] >= 10.6\n",
    "        spirals = spirals[select_mass]\n",
    "        deb = deb[select_mass]\n",
    "    \n",
    "    values = np.zeros((6,len(fields)+2))\n",
    "    m_vals = assign(spirals,deb)\n",
    "    \n",
    "    N = len(spirals)\n",
    "    f = 1.00\n",
    "    \n",
    "    means = get_property_means(spirals,fields)\n",
    "    values[row]  = [N] + [f] + means.tolist()\n",
    "    row = row + 1\n",
    "    \n",
    "    for m in range(5):\n",
    "        \n",
    "        N_m = np.sum(m_vals == m)\n",
    "        f = N_m/N\n",
    "        \n",
    "        spirals_m =spirals[m_vals == m]\n",
    "        means = get_property_means(spirals_m,fields)\n",
    "        values[row] = [N_m] + [f] + means.tolist()\n",
    "        row = row + 1\n",
    "        \n",
    "    col1 = ['Stellar mass-limited','$m=1$','$m=2$','$m=3$','$m=4$','$m=5+$']\n",
    "    \n",
    "    values[:,1:] = np.round(values[:,1:],decimals=2)\n",
    "\n",
    "    table_out = np.concatenate([np.array([col1]).T,values],axis=1)\n",
    "    \n",
    "    table_out = tabulate(table_out,headers = [r'Sample',r'$N$',r'$f$',r'Stellar mass',r'$g-r$',\n",
    "                                              r'$\\logsSFR$'],tablefmt='latex')\n",
    "    \n",
    "    print(table_out)\n",
    "    \n",
    "    return None"
   ]
  },
  {
   "cell_type": "code",
   "execution_count": 79,
   "metadata": {
    "collapsed": true
   },
   "outputs": [],
   "source": [
    "def get_property_means(data,fields):\n",
    "    \n",
    "    means = np.zeros(len(fields))\n",
    "    \n",
    "    for c in enumerate(fields):\n",
    "        if len(c[1]) == 2:\n",
    "            column = data.field(c[1][0]) - data.field(c[1][1])\n",
    "        else:\n",
    "            column = data.field(c[1][0])\n",
    "        \n",
    "        column = column[np.isfinite(column)]\n",
    "        means[c[0]] = np.mean(column)\n",
    "        \n",
    "    return means"
   ]
  },
  {
   "cell_type": "code",
   "execution_count": 91,
   "metadata": {
    "collapsed": false
   },
   "outputs": [
    {
     "name": "stdout",
     "output_type": "stream",
     "text": [
      "\\begin{tabular}{lrrrrr}\n",
      "\\hline\n",
      " Sample               &   \\$N\\$ &   \\$f\\$ &   Stellar mass &   \\$g-r\\$ &   \\$\\textbackslash{}logsSFR\\$ \\\\\n",
      "\\hline\n",
      " Stellar mass-limited & 14992 &  1    &          10.61 &    0.56 &       -10.48 \\\\\n",
      " \\$m=1\\$                &   321 &  0.02 &          10.58 &    0.57 &       -10.39 \\\\\n",
      " \\$m=2\\$                &  7906 &  0.53 &          10.61 &    0.59 &       -10.5  \\\\\n",
      " \\$m=3\\$                &  2023 &  0.13 &          10.61 &    0.53 &       -10.38 \\\\\n",
      " \\$m=4\\$                &   795 &  0.05 &          10.63 &    0.52 &       -10.43 \\\\\n",
      " \\$m=5+\\$               &   744 &  0.05 &          10.67 &    0.53 &       -10.58 \\\\\n",
      "\\hline\n",
      "\\end{tabular}\n"
     ]
    }
   ],
   "source": [
    "get_main_table(spirals,deb_spirals,mass_lim=False)"
   ]
  },
  {
   "cell_type": "code",
   "execution_count": null,
   "metadata": {
    "collapsed": true
   },
   "outputs": [],
   "source": []
  }
 ],
 "metadata": {
  "kernelspec": {
   "display_name": "Python 3",
   "language": "python",
   "name": "python3"
  },
  "language_info": {
   "codemirror_mode": {
    "name": "ipython",
    "version": 3
   },
   "file_extension": ".py",
   "mimetype": "text/x-python",
   "name": "python",
   "nbconvert_exporter": "python",
   "pygments_lexer": "ipython3",
   "version": "3.4.1"
  }
 },
 "nbformat": 4,
 "nbformat_minor": 0
}
